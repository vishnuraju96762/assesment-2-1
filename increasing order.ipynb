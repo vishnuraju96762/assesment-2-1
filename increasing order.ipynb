{
 "cells": [
  {
   "cell_type": "code",
   "execution_count": 3,
   "id": "0520eff4",
   "metadata": {},
   "outputs": [
    {
     "name": "stdout",
     "output_type": "stream",
     "text": [
      "[(2, 1), (1, 2), (4, 2), (2, 3), (2, 5)]\n"
     ]
    }
   ],
   "source": [
    "def return_last_element(tuple_item):\n",
    "    return tuple_item[-1]\n",
    "list1 = [(2,5), (1,2), (4,2), (2,3), (2,1)]\n",
    "list2 = sorted(list1, key=return_last_element)\n",
    "print(list2)"
   ]
  }
 ],
 "metadata": {
  "kernelspec": {
   "display_name": "Python 3.10.7 64-bit",
   "language": "python",
   "name": "python3"
  },
  "language_info": {
   "codemirror_mode": {
    "name": "ipython",
    "version": 3
   },
   "file_extension": ".py",
   "mimetype": "text/x-python",
   "name": "python",
   "nbconvert_exporter": "python",
   "pygments_lexer": "ipython3",
   "version": "3.10.7"
  },
  "vscode": {
   "interpreter": {
    "hash": "e2ace91d6470e1f250b7cfffe6dcf9644f519f58a910a1d1f7359ed15839b1fc"
   }
  }
 },
 "nbformat": 4,
 "nbformat_minor": 5
}
